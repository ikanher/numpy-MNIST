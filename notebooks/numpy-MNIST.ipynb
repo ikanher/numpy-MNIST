{
 "cells": [
  {
   "cell_type": "markdown",
   "metadata": {},
   "source": [
    "# MNIST from scratch with numpy"
   ]
  },
  {
   "cell_type": "code",
   "execution_count": 1,
   "metadata": {},
   "outputs": [],
   "source": [
    "# load changed modules automatically\n",
    "%reload_ext autoreload\n",
    "%autoreload 2"
   ]
  },
  {
   "cell_type": "code",
   "execution_count": 89,
   "metadata": {},
   "outputs": [],
   "source": [
    "# load numpy\n",
    "import numpy as np\n",
    "\n",
    "# load dataloaders and required layers\n",
    "from mnist import dataloader\n",
    "from mnist.layers import Softmax, Linear\n",
    "from mnist.losses import CrossEntropy\n",
    "\n",
    "# load pyplot for displaying images\n",
    "from matplotlib import pyplot as plt\n",
    "\n",
    "# show images inline on notebook\n",
    "%matplotlib inline\n",
    "\n",
    "# debugging\n",
    "import pdb"
   ]
  },
  {
   "cell_type": "markdown",
   "metadata": {},
   "source": [
    "## Load training data"
   ]
  },
  {
   "cell_type": "code",
   "execution_count": 3,
   "metadata": {},
   "outputs": [],
   "source": [
    "dl = dataloader.DataLoader()\n",
    "((x_train, y_train), (x_valid, y_valid), (x_test, (y_test))) = dl.load_data()"
   ]
  },
  {
   "cell_type": "code",
   "execution_count": 4,
   "metadata": {},
   "outputs": [
    {
     "data": {
      "text/plain": [
       "((50000, 784), (50000,), (10000, 784), (10000,))"
      ]
     },
     "execution_count": 4,
     "metadata": {},
     "output_type": "execute_result"
    }
   ],
   "source": [
    "x_train.shape, y_train.shape, x_valid.shape, y_valid.shape"
   ]
  },
  {
   "cell_type": "markdown",
   "metadata": {},
   "source": [
    "## Normalize data"
   ]
  },
  {
   "cell_type": "code",
   "execution_count": 5,
   "metadata": {},
   "outputs": [],
   "source": [
    "(x_train, y_train), (x_valid, y_valid) = dl.normalize(((x_train, y_train), (x_valid, y_valid)))"
   ]
  },
  {
   "cell_type": "markdown",
   "metadata": {
    "heading_collapsed": true
   },
   "source": [
    "## Exploring the data"
   ]
  },
  {
   "cell_type": "code",
   "execution_count": 16,
   "metadata": {
    "hidden": true
   },
   "outputs": [],
   "source": [
    "def show(img):\n",
    "    plt.imshow(img, cmap=\"gray\")"
   ]
  },
  {
   "cell_type": "code",
   "execution_count": 7,
   "metadata": {
    "hidden": true
   },
   "outputs": [],
   "source": [
    "valid_images = np.reshape(x_valid, (-1,28,28))"
   ]
  },
  {
   "cell_type": "code",
   "execution_count": 8,
   "metadata": {
    "hidden": true
   },
   "outputs": [
    {
     "data": {
      "image/png": "[encoded data removed]",
      "text/plain": [
       "<Figure size 432x288 with 1 Axes>"
      ]
     },
     "metadata": {},
     "output_type": "display_data"
    }
   ],
   "source": [
    "show(valid_images[0])"
   ]
  },
  {
   "cell_type": "markdown",
   "metadata": {},
   "source": [
    "## Start building the model"
   ]
  },
  {
   "cell_type": "code",
   "execution_count": 6,
   "metadata": {},
   "outputs": [],
   "source": [
    "def shuffle(arr1, arr2):\n",
    "    random_idxs = np.arange(len(arr1))\n",
    "    np.random.shuffle(random_idxs)\n",
    "    return x_train[random_idxs], y_train[random_idxs]\n",
    "\n",
    "def dropout(X, drop_probability):\n",
    "    keep_probability = 1 - drop_probability\n",
    "    mask = np.random.uniform(0, 1.0, X.shape) < keep_probability\n",
    "    scale = (1/keep_probability)\n",
    "    return mask * X * scale"
   ]
  },
  {
   "cell_type": "code",
   "execution_count": 93,
   "metadata": {},
   "outputs": [],
   "source": [
    "# always reproduce the same weights\n",
    "np.random.seed(1)\n",
    "\n",
    "class Net():\n",
    "    def __init__(self):\n",
    "        self.input_layer = Linear(28*28, 10) # linear layer with bias\n",
    "        self.softmax = Softmax()\n",
    "        self.cross_entropy = CrossEntropy()\n",
    "    \n",
    "    def forward(self, x):\n",
    "        x = self.input_layer.forward(x)\n",
    "        x = self.softmax.forward(x)\n",
    "        return x\n",
    "    \n",
    "    def backward(self, predictions, y):\n",
    "        grad_loss = net.softmax.backward(predictions, y)\n",
    "        grad_input_layer, grad_bias = net.input_layer.backward(inputs, grad_loss)\n",
    "        return grad_input_layer, grad_bias\n",
    "    \n",
    "    def loss(self, y_pred, y):\n",
    "        return self.cross_entropy.loss(y_pred, y)\n",
    "\n",
    "net = Net()"
   ]
  },
  {
   "cell_type": "code",
   "execution_count": 94,
   "metadata": {},
   "outputs": [
    {
     "name": "stdout",
     "output_type": "stream",
     "text": [
      "0 2.0572343174261296 2.0803794741323727 0.625 0.58984375\n",
      "1 1.8403301856652743 1.8991903883389245 0.6994047619047619 0.650390625\n",
      "2 1.6606222009313545 1.7626918655225627 0.7351190476190477 0.65625\n",
      "3 1.511733665956536 1.6216523423611875 0.7619047619047619 0.689453125\n",
      "4 1.3879209119293223 1.5075813802012277 0.7767857142857143 0.712890625\n",
      "5 1.28424956232271 1.3942257185682791 0.7976190476190477 0.716796875\n",
      "6 1.1967100305030716 1.363744374804816 0.8125 0.703125\n",
      "7 1.1221279294066313 1.2844169653438957 0.8214285714285714 0.72265625\n",
      "8 1.0580156556677234 1.2118638134412367 0.8244047619047619 0.759765625\n",
      "9 1.0024269184893402 1.1762918560765574 0.8333333333333334 0.763671875\n",
      "10 0.9538340195587379 1.1351382096501557 0.8392857142857143 0.755859375\n",
      "11 0.911030791329668 1.0924171449119786 0.8422619047619048 0.75390625\n",
      "12 0.8730580922096739 1.0500709919342293 0.8422619047619048 0.78125\n",
      "13 0.8391473323502381 1.021137212205017 0.8511904761904762 0.771484375\n",
      "14 0.8086778023323252 1.0410814759147609 0.8601190476190477 0.748046875\n",
      "15 0.7811443655391047 0.9685020110738383 0.8660714285714286 0.796875\n",
      "16 0.7561328780571503 0.9397167475217848 0.8660714285714286 0.787109375\n",
      "17 0.7333013696106249 0.914004095403737 0.8690476190476191 0.78515625\n",
      "18 0.7123655348165515 0.9449798798426176 0.8720238095238095 0.7890625\n",
      "19 0.6930874672587282 0.9191359186697576 0.875 0.767578125\n",
      "20 0.6752668491460263 0.8761649991768892 0.875 0.8046875\n",
      "21 0.6587340132569474 0.8960942998322452 0.8779761904761905 0.78125\n",
      "22 0.6433444423697239 0.837554067651342 0.8839285714285714 0.7890625\n",
      "23 0.6289743799257708 0.7859260010118492 0.8839285714285714 0.822265625\n",
      "24 0.6155173054606775 0.8837014279339978 0.8839285714285714 0.771484375\n",
      "25 0.6028810873537895 0.7895968902971437 0.8869047619047619 0.82421875\n",
      "26 0.5909856693907946 0.7970083317760401 0.8928571428571429 0.8203125\n",
      "27 0.5797611805712594 0.7975123781296833 0.8928571428571429 0.833984375\n",
      "28 0.5691463824426852 0.7537506858437908 0.8928571428571429 0.82421875\n",
      "29 0.5590873871095787 0.7530230807492535 0.8958333333333334 0.83203125\n",
      "30 0.5495365934788238 0.8161848213657378 0.8988095238095238 0.78125\n",
      "31 0.5404518003783105 0.7667860438527533 0.8988095238095238 0.81640625\n",
      "32 0.5317954637459337 0.7555853164002266 0.9047619047619048 0.8046875\n",
      "33 0.523534071738808 0.698786381824374 0.9047619047619048 0.837890625\n",
      "34 0.5156376168107065 0.6983073261794697 0.9047619047619048 0.8359375\n",
      "35 0.5080791478885018 0.746499493809285 0.9047619047619048 0.80859375\n",
      "36 0.5008343890013065 0.721629429121762 0.9047619047619048 0.80859375\n",
      "37 0.4938814132726345 0.7000744049407057 0.9077380952380952 0.828125\n",
      "38 0.4872003632235963 0.736131309062017 0.9077380952380952 0.80859375\n",
      "39 0.48077320996675205 0.7261290350421541 0.9077380952380952 0.8046875\n",
      "40 0.47458354518250845 0.7272315865541474 0.9107142857142857 0.791015625\n",
      "41 0.4686164008299803 0.6761410415107153 0.9136904761904762 0.822265625\n",
      "42 0.46285809240410236 0.701712135775211 0.9136904761904762 0.826171875\n",
      "43 0.45729608225113827 0.6473624573980673 0.9136904761904762 0.830078125\n",
      "44 0.4519188600274281 0.6670006151431318 0.9136904761904762 0.822265625\n",
      "45 0.4467158378563192 0.6444094258191462 0.9107142857142857 0.833984375\n",
      "46 0.44167725812555225 0.6078662321754704 0.9136904761904762 0.8671875\n",
      "47 0.4367941121876452 0.6119296703025685 0.9166666666666666 0.84375\n",
      "48 0.43205806849158457 0.6097346745088383 0.9166666666666666 0.8515625\n",
      "49 0.4274614088953964 0.6837712194532607 0.9166666666666666 0.814453125\n"
     ]
    }
   ],
   "source": [
    "debug = False\n",
    "\n",
    "if debug:\n",
    "    n_epochs = 1\n",
    "    batch_size = 8\n",
    "else:\n",
    "    n_epochs = 50\n",
    "    batch_size = 512\n",
    "    \n",
    "learning_rate = 1e-1\n",
    "\n",
    "for epoch in range(n_epochs):\n",
    "    \n",
    "    for i in range(0, len(x_train), batch_size):\n",
    "\n",
    "        inputs = x_train[i:i+batch_size]\n",
    "        targets = y_train[i:i+batch_size]\n",
    "        \n",
    "        inputs, targets = shuffle(inputs, targets)\n",
    "\n",
    "        if debug:\n",
    "            print(\"inputs.shape\", inputs.shape)\n",
    "            print(\"targets.shape\", targets.shape)\n",
    "\n",
    "        # forward propagation\n",
    "        y_pred = net.forward(inputs)\n",
    "        predictions = y_pred.copy()\n",
    "\n",
    "        if debug:\n",
    "            print(\"y_pred.shape:\", y_pred.shape)\n",
    "            print(\"predictions.shape\", predictions.shape)\n",
    "            \n",
    "        # calculate cross-entropy loss\n",
    "        loss = net.loss(predictions, targets)\n",
    "        \n",
    "        if debug:\n",
    "            print(epoch, loss)\n",
    "        \n",
    "        # backpropagation        \n",
    "        grad_input_layer, grad_bias = net.backward(predictions, targets)\n",
    "        \n",
    "        if debug:\n",
    "            print(\"grad_input_layer.shape\", grad_input_layer.shape)\n",
    "            print(\"net.input_layer.weights.shape\", net.input_layer.weights.shape)\n",
    "            print(\"net.input_layer.bias.shape\", net.input_layer.bias.shape)\n",
    "        \n",
    "        net.input_layer.weights -= learning_rate * grad_input_layer.T\n",
    "        net.input_layer.bias -= learning_rate * grad_bias\n",
    "        \n",
    "        if debug:\n",
    "            break\n",
    "        \n",
    "    # calculate validation loss for some random indices\n",
    "    random_idxs = np.random.randint(0, len(x_valid), batch_size)\n",
    "    y_valid_pred = net.forward(x_valid[random_idxs])\n",
    "    loss_valid = net.loss(y_valid_pred, y_valid[random_idxs])\n",
    "    \n",
    "    #calculate accuracy and validation accuracy\n",
    "    accuracy = np.mean(y_pred.argmax(axis=1) == targets)\n",
    "    valid_accuracy = np.mean(y_valid_pred.argmax(axis=1) == y_valid[random_idxs])\n",
    "    \n",
    "    print(epoch, loss, loss_valid, accuracy, valid_accuracy)\n"
   ]
  },
  {
   "cell_type": "markdown",
   "metadata": {},
   "source": [
    "## Check results"
   ]
  },
  {
   "cell_type": "code",
   "execution_count": 95,
   "metadata": {},
   "outputs": [
    {
     "data": {
      "text/plain": [
       "(array([4, 8, 1, 4, 3, 4, 4, 0, 1, 2]), array([4, 8, 1, 4, 3, 8, 4, 0, 8, 2]))"
      ]
     },
     "execution_count": 95,
     "metadata": {},
     "output_type": "execute_result"
    }
   ],
   "source": [
    "# get some random examples from validation data,\n",
    "# compare predictions with actual values\n",
    "valid_preds = net.forward(x_valid)\n",
    "random_idxs = np.random.randint(0, len(x_valid), 10)\n",
    "np.argmax(valid_preds, axis=1)[random_idxs], y_valid[random_idxs]"
   ]
  },
  {
   "cell_type": "code",
   "execution_count": 99,
   "metadata": {},
   "outputs": [
    {
     "name": "stdout",
     "output_type": "stream",
     "text": [
      "prediction: 2 correct: 2\n"
     ]
    },
    {
     "data": {
      "image/png": "[encoded data removed]",
      "text/plain": [
       "<Figure size 432x288 with 1 Axes>"
      ]
     },
     "metadata": {},
     "output_type": "display_data"
    }
   ],
   "source": [
    "# display a random image from validation data with\n",
    "# prediction and correct value\n",
    "valid_images = np.reshape(x_valid, (-1,28,28))\n",
    "valid_preds = net.forward(x_valid)\n",
    "random_idx = np.random.randint(0, len(x_valid))\n",
    "prediction = np.argmax(valid_preds, axis=1)[random_idx]\n",
    "correct = y_valid[random_idx]\n",
    "print(\"prediction:\", prediction, \"correct:\", correct)\n",
    "show(valid_images[random_idx])"
   ]
  },
  {
   "cell_type": "code",
   "execution_count": null,
   "metadata": {},
   "outputs": [],
   "source": []
  }
 ],
 "metadata": {
  "kernelspec": {
   "display_name": "Python 3",
   "language": "python",
   "name": "python3"
  },
  "language_info": {
   "codemirror_mode": {
    "name": "ipython",
    "version": 3
   },
   "file_extension": ".py",
   "mimetype": "text/x-python",
   "name": "python",
   "nbconvert_exporter": "python",
   "pygments_lexer": "ipython3",
   "version": "3.6.5"
  }
 },
 "nbformat": 4,
 "nbformat_minor": 2
}
