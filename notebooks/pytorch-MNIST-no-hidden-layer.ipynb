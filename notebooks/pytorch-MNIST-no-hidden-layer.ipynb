{
 "cells": [
  {
   "cell_type": "markdown",
   "metadata": {},
   "source": [
    "# MNIST with Pytorch\n"
   ]
  },
  {
   "cell_type": "code",
   "execution_count": 1,
   "metadata": {},
   "outputs": [],
   "source": [
    "# load pytorch\n",
    "import torch\n",
    "from torch import nn, optim\n",
    "\n",
    "# dataloader\n",
    "from mnist import dataloader\n",
    "\n",
    "# load numpy\n",
    "import numpy as np\n",
    "\n",
    "# load pyplot for displaying images\n",
    "from matplotlib import pyplot as plt\n",
    "\n",
    "# show images inline on notebook\n",
    "%matplotlib inline\n",
    "\n",
    "# for loading the training data\n",
    "import os\n",
    "import pickle\n",
    "import gzip"
   ]
  },
  {
   "cell_type": "markdown",
   "metadata": {},
   "source": [
    "## Load training data"
   ]
  },
  {
   "cell_type": "code",
   "execution_count": 2,
   "metadata": {},
   "outputs": [],
   "source": [
    "# load mnist data\n",
    "dl = dataloader.DataLoader()\n",
    "((x_train, y_train), (x_valid, y_valid), _) = dl.load_data()"
   ]
  },
  {
   "cell_type": "code",
   "execution_count": 3,
   "metadata": {},
   "outputs": [],
   "source": [
    "# normalize training and validation sets\n",
    "(x_train, y_train), (x_valid, y_valid) = dl.normalize(((x_train, y_train), (x_valid, y_valid)))"
   ]
  },
  {
   "cell_type": "code",
   "execution_count": 4,
   "metadata": {},
   "outputs": [],
   "source": [
    "# turn data to pytorch format\n",
    "x_train = torch.from_numpy(x_train)\n",
    "y_train = torch.from_numpy(y_train)\n",
    "x_valid = torch.from_numpy(x_valid)\n",
    "y_valid = torch.from_numpy(y_valid)"
   ]
  },
  {
   "cell_type": "markdown",
   "metadata": {
    "heading_collapsed": true
   },
   "source": [
    "## Exploring the data"
   ]
  },
  {
   "cell_type": "code",
   "execution_count": null,
   "metadata": {
    "hidden": true
   },
   "outputs": [],
   "source": [
    "def show(img, title=None):\n",
    "    plt.imshow(img, cmap=\"gray\")\n",
    "    if title is not None:\n",
    "        plt.title(title)"
   ]
  },
  {
   "cell_type": "code",
   "execution_count": null,
   "metadata": {
    "hidden": true
   },
   "outputs": [],
   "source": [
    "valid_images = np.reshape(x_valid, (-1,28,28))"
   ]
  },
  {
   "cell_type": "code",
   "execution_count": null,
   "metadata": {
    "hidden": true
   },
   "outputs": [],
   "source": [
    "for i in range(5):\n",
    "    show(valid_images[i], y_valid[i])\n",
    "    plt.show()"
   ]
  },
  {
   "cell_type": "markdown",
   "metadata": {},
   "source": [
    "## Start building the model"
   ]
  },
  {
   "cell_type": "code",
   "execution_count": 5,
   "metadata": {},
   "outputs": [],
   "source": [
    "def Softmax(x):\n",
    "    return torch.exp(x)/(torch.exp(x).sum(dim=1)[:,None])\n",
    "\n",
    "def NLLLoss(y_pred, y):\n",
    "    out = torch.diag(y_pred[:,y])\n",
    "    return -torch.mean(out)\n",
    "\n",
    "def CrossEntropyLoss(y_pred, y):\n",
    "    out = torch.diag(y_pred[:,y])\n",
    "    return -torch.mean(torch.log(out))"
   ]
  },
  {
   "cell_type": "code",
   "execution_count": 6,
   "metadata": {},
   "outputs": [],
   "source": [
    "def get_layer(*dims):\n",
    "    return nn.Parameter(torch.randn(dims)/dims[0])\n",
    "\n",
    "class Net(nn.Module):\n",
    "    def __init__(self):\n",
    "        super().__init__()\n",
    "        self.layer1 = get_layer(28*28, 10)\n",
    "        self.bias = get_layer(10)\n",
    "        self.softmax = Softmax\n",
    "    \n",
    "    def forward(self, x):\n",
    "        x = (x @ self.layer1) + self.bias # linear layer\n",
    "        x = self.softmax(x)\n",
    "        return x\n",
    "\n",
    "criterion = CrossEntropyLoss\n",
    "\n",
    "net = Net()"
   ]
  },
  {
   "cell_type": "code",
   "execution_count": 7,
   "metadata": {},
   "outputs": [
    {
     "name": "stdout",
     "output_type": "stream",
     "text": [
      "0 tensor(0.2503) tensor(0.3576) 0.9125 0.875\n",
      "1 tensor(0.2154) tensor(0.2795) 0.925 0.890625\n",
      "2 tensor(0.1991) tensor(0.1984) 0.95 0.9375\n"
     ]
    }
   ],
   "source": [
    "n_epochs = 3\n",
    "batch_size = 128\n",
    "learning_rate = 1e-1\n",
    "\n",
    "for epoch in range(n_epochs):\n",
    "    \n",
    "    for i in range(0, len(x_train), batch_size):\n",
    "\n",
    "        n = batch_size\n",
    "        inputs = x_train[i:i+n]\n",
    "        target = y_train[i:i+n]\n",
    "\n",
    "        # forward propagation\n",
    "        y_pred = net(inputs)\n",
    "\n",
    "        loss = criterion(y_pred, target)\n",
    "\n",
    "        # backpropagation\n",
    "        loss.backward()\n",
    "        \n",
    "        net.layer1.data -= learning_rate * net.layer1.grad\n",
    "        net.bias.data -= learning_rate * net.bias.grad\n",
    "        \n",
    "        net.layer1.grad.data.zero_()\n",
    "        net.bias.grad.data.zero_()\n",
    "\n",
    "    # calculate validation loss with random samples\n",
    "    random_idxs = torch.LongTensor(batch_size).random_(0, len(x_valid))\n",
    "    y_valid_pred = net(x_valid[random_idxs])\n",
    "    loss_valid = criterion(y_valid_pred, y_valid[random_idxs])\n",
    "    \n",
    "    # calculate accuracy and validation accuracy\n",
    "    accuracy = np.mean(y_pred.detach().numpy().argmax(axis=1) == target.detach().numpy())\n",
    "    valid_accuracy = np.mean(y_valid_pred.detach().numpy().argmax(axis=1) == y_valid[random_idxs].detach().numpy())\n",
    "    \n",
    "    print(epoch, loss, loss_valid, accuracy, valid_accuracy)\n",
    "    "
   ]
  },
  {
   "cell_type": "code",
   "execution_count": null,
   "metadata": {},
   "outputs": [],
   "source": []
  }
 ],
 "metadata": {
  "kernelspec": {
   "display_name": "Python 3",
   "language": "python",
   "name": "python3"
  },
  "language_info": {
   "codemirror_mode": {
    "name": "ipython",
    "version": 3
   },
   "file_extension": ".py",
   "mimetype": "text/x-python",
   "name": "python",
   "nbconvert_exporter": "python",
   "pygments_lexer": "ipython3",
   "version": "3.6.5"
  }
 },
 "nbformat": 4,
 "nbformat_minor": 2
}
