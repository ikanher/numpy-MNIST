{
 "cells": [
  {
   "cell_type": "markdown",
   "metadata": {},
   "source": [
    "# MNIST with Pytorch\n"
   ]
  },
  {
   "cell_type": "code",
   "execution_count": 1,
   "metadata": {},
   "outputs": [],
   "source": [
    "# load pytorch\n",
    "import torch\n",
    "from torch import nn, optim\n",
    "from torch.distributions.binomial import Binomial\n",
    "\n",
    "# dataloader\n",
    "from mnist import dataloader\n",
    "\n",
    "# load numpy\n",
    "import numpy as np\n",
    "\n",
    "# load pyplot for displaying images\n",
    "from matplotlib import pyplot as plt\n",
    "\n",
    "# show images inline on notebook\n",
    "%matplotlib inline\n",
    "\n",
    "# for loading the training data\n",
    "import os\n",
    "import pickle\n",
    "import gzip"
   ]
  },
  {
   "cell_type": "markdown",
   "metadata": {},
   "source": [
    "## Load training data"
   ]
  },
  {
   "cell_type": "code",
   "execution_count": 2,
   "metadata": {},
   "outputs": [],
   "source": [
    "# load mnist data\n",
    "dl = dataloader.DataLoader()\n",
    "((x_train, y_train), (x_valid, y_valid), _) = dl.load_data()"
   ]
  },
  {
   "cell_type": "code",
   "execution_count": 3,
   "metadata": {},
   "outputs": [],
   "source": [
    "# normalize training and validation sets\n",
    "(x_train, y_train), (x_valid, y_valid) = dl.normalize(((x_train, y_train), (x_valid, y_valid)))"
   ]
  },
  {
   "cell_type": "code",
   "execution_count": 4,
   "metadata": {},
   "outputs": [],
   "source": [
    "# turn data to pytorch format\n",
    "x_train = torch.from_numpy(x_train)\n",
    "y_train = torch.from_numpy(y_train)\n",
    "x_valid = torch.from_numpy(x_valid)\n",
    "y_valid = torch.from_numpy(y_valid)"
   ]
  },
  {
   "cell_type": "markdown",
   "metadata": {
    "heading_collapsed": true
   },
   "source": [
    "## Exploring the data"
   ]
  },
  {
   "cell_type": "code",
   "execution_count": null,
   "metadata": {
    "hidden": true
   },
   "outputs": [],
   "source": [
    "def show(img, title=None):\n",
    "    plt.imshow(img, cmap=\"gray\")\n",
    "    if title is not None:\n",
    "        plt.title(title)"
   ]
  },
  {
   "cell_type": "code",
   "execution_count": null,
   "metadata": {
    "hidden": true
   },
   "outputs": [],
   "source": [
    "valid_images = np.reshape(x_valid, (-1,28,28))"
   ]
  },
  {
   "cell_type": "code",
   "execution_count": null,
   "metadata": {
    "hidden": true
   },
   "outputs": [],
   "source": [
    "for i in range(5):\n",
    "    show(valid_images[i], y_valid[i])\n",
    "    plt.show()"
   ]
  },
  {
   "cell_type": "markdown",
   "metadata": {},
   "source": [
    "## Start building the model"
   ]
  },
  {
   "cell_type": "code",
   "execution_count": 5,
   "metadata": {},
   "outputs": [],
   "source": [
    "def Softmax(x):\n",
    "    return torch.exp(x)/(torch.exp(x).sum(dim=1)[:,None])\n",
    "\n",
    "def NLLLoss(y_pred, y):\n",
    "    out = torch.diag(y_pred[:,y])\n",
    "    return -torch.mean(out)\n",
    "\n",
    "def CrossEntropyLoss(y_pred, y):\n",
    "    out = torch.diag(y_pred[:,y])\n",
    "    return -torch.mean(torch.log(out))\n",
    "\n",
    "def CrossEntropLossNew(y_pred, y):\n",
    "    k = inputs.shape[0]\n",
    "    logprobs = -np.log(y_pred[range(k), y])\n",
    "    loss = np.sum(logprobs) / k\n",
    "    return loss\n",
    "\n",
    "def ReLU(x):\n",
    "    out = x[x > 0]\n",
    "    return out\n",
    "\n",
    "# def Dropout(x, p=0.5):\n",
    "#     mask = Binomial.sample(sample_shape=x.)\n",
    "#     return x * mask\n"
   ]
  },
  {
   "cell_type": "code",
   "execution_count": 8,
   "metadata": {},
   "outputs": [],
   "source": [
    "torch.manual_seed(1)\n",
    "\n",
    "def get_layer(*dims):\n",
    "    return nn.Parameter(torch.randn(dims)/dims[0])\n",
    "\n",
    "class Net(nn.Module):\n",
    "    def __init__(self):\n",
    "        super().__init__()\n",
    "        self.n_hidden1 = 256\n",
    "        \n",
    "        self.dropout1 = nn.Dropout(0.1)\n",
    "        self.layer1 = get_layer(28*28, self.n_hidden1)\n",
    "        self.bias1 = get_layer(self.n_hidden1)\n",
    "\n",
    "        self.dropout2 = nn.Dropout(0.5)\n",
    "        self.layer2 = get_layer(self.n_hidden1, 10)\n",
    "        self.bias2 = get_layer(10)\n",
    "\n",
    "        self.softmax = Softmax\n",
    "        #self.relu = ReLU\n",
    "        self.relu = nn.ReLU()\n",
    "    \n",
    "    def forward(self, x):\n",
    "        x = self.dropout1(x)\n",
    "        x = (x @ self.layer1) + self.bias1 # linear layer\n",
    "        x = self.relu(x)\n",
    "        x = self.dropout2(x)\n",
    "        x = (x @ self.layer2) + self.bias2 # hidden layer\n",
    "        x = self.softmax(x)\n",
    "        return x\n",
    "\n",
    "criterion = CrossEntropyLoss\n",
    "\n",
    "net = Net()"
   ]
  },
  {
   "cell_type": "code",
   "execution_count": 9,
   "metadata": {},
   "outputs": [
    {
     "name": "stdout",
     "output_type": "stream",
     "text": [
      "0 tensor(0.4166) tensor(0.2757) 0.9 0.91796875\n",
      "1 tensor(0.2153) tensor(0.1834) 0.9625 0.9453125\n",
      "2 tensor(0.1958) tensor(0.1862) 0.95 0.93359375\n",
      "3 tensor(0.1724) tensor(0.1251) 0.9375 0.96875\n",
      "4 tensor(0.1421) tensor(0.1475) 0.9875 0.95703125\n",
      "5 tensor(0.1576) tensor(0.1629) 0.9625 0.953125\n",
      "6 tensor(0.1013) tensor(0.1630) 0.9625 0.96875\n",
      "7 tensor(1.00000e-02 *\n",
      "       7.6547) tensor(0.1347) 1.0 0.9609375\n",
      "8 tensor(0.1010) tensor(0.1034) 0.9625 0.96875\n",
      "9 tensor(1.00000e-02 *\n",
      "       6.9674) tensor(1.00000e-02 *\n",
      "       8.4142) 0.9875 0.96875\n",
      "10 tensor(1.00000e-02 *\n",
      "       7.7720) tensor(0.1411) 0.9875 0.97265625\n",
      "11 tensor(1.00000e-02 *\n",
      "       6.6308) tensor(0.1641) 0.9875 0.96484375\n",
      "12 tensor(1.00000e-02 *\n",
      "       7.5929) tensor(1.00000e-02 *\n",
      "       7.7253) 1.0 0.96484375\n",
      "13 tensor(1.00000e-02 *\n",
      "       6.5709) tensor(1.00000e-02 *\n",
      "       6.6783) 0.9875 0.984375\n",
      "14 tensor(1.00000e-02 *\n",
      "       6.1779) tensor(1.00000e-02 *\n",
      "       9.1033) 0.9875 0.98046875\n",
      "15 tensor(1.00000e-02 *\n",
      "       3.5257) tensor(0.1150) 1.0 0.96875\n",
      "16 tensor(1.00000e-02 *\n",
      "       5.2778) tensor(1.00000e-02 *\n",
      "       5.6382) 0.9875 0.984375\n",
      "17 tensor(1.00000e-02 *\n",
      "       5.4132) tensor(1.00000e-02 *\n",
      "       7.8814) 0.9875 0.98046875\n",
      "18 tensor(1.00000e-02 *\n",
      "       6.8120) tensor(1.00000e-02 *\n",
      "       3.8889) 0.975 0.98828125\n",
      "19 tensor(1.00000e-02 *\n",
      "       7.2488) tensor(0.1285) 0.9875 0.96875\n"
     ]
    }
   ],
   "source": [
    "n_epochs = 20\n",
    "batch_size = 256\n",
    "learning_rate = 1e-1\n",
    "\n",
    "for epoch in range(n_epochs):\n",
    "    \n",
    "    for i in range(0, len(x_train), batch_size):\n",
    "\n",
    "        n = batch_size\n",
    "        inputs = x_train[i:i+n]\n",
    "        target = y_train[i:i+n]\n",
    "\n",
    "        # forward propagation\n",
    "        y_pred = net(inputs)\n",
    "\n",
    "        loss = criterion(y_pred, target)\n",
    "\n",
    "        # backpropagation\n",
    "        loss.backward()\n",
    "        \n",
    "        net.layer1.data -= learning_rate * net.layer1.grad\n",
    "        net.bias1.data -= learning_rate * net.bias1.grad\n",
    "\n",
    "        net.layer2.data -= learning_rate * net.layer2.grad\n",
    "        net.bias2.data -= learning_rate * net.bias2.grad\n",
    "        \n",
    "        net.layer1.grad.data.zero_()\n",
    "        net.layer2.grad.data.zero_()\n",
    "        net.bias1.grad.data.zero_()\n",
    "        net.bias2.grad.data.zero_()\n",
    "\n",
    "    # calculate validation loss with random samples\n",
    "    net = net.eval()\n",
    "    random_idxs = torch.LongTensor(batch_size).random_(0, len(x_valid))\n",
    "    y_valid_pred = net(x_valid[random_idxs])\n",
    "    loss_valid = criterion(y_valid_pred, y_valid[random_idxs])\n",
    "    net = net.train()\n",
    "    \n",
    "    # calculate accuracy and validation accuracy\n",
    "    accuracy = np.mean(y_pred.detach().numpy().argmax(axis=1) == target.detach().numpy())\n",
    "    valid_accuracy = np.mean(y_valid_pred.detach().numpy().argmax(axis=1) == y_valid[random_idxs].detach().numpy())\n",
    "    \n",
    "    print(epoch, loss, loss_valid, accuracy, valid_accuracy)\n",
    "    "
   ]
  },
  {
   "cell_type": "code",
   "execution_count": null,
   "metadata": {},
   "outputs": [],
   "source": [
    "# get some random examples from validation data,\n",
    "# compare predictions with actual values\n",
    "n_samples = 10\n",
    "valid_preds = net(x_valid)\n",
    "random_idxs = torch.LongTensor(n_samples).random_(0, len(x_valid))\n",
    "preds = np.argmax(valid_preds.detach().numpy(), axis=1)[random_idxs]\n",
    "correct = y_valid.detach().numpy()[random_idxs]\n",
    "print(\"random_idxs\", random_idxs)\n",
    "print(\"preds  \", preds)\n",
    "print(\"correct\", correct)\n",
    "correct_preds = preds != correct\n",
    "errors = np.sum(correct_preds)\n",
    "print(\"errors:\", errors)"
   ]
  },
  {
   "cell_type": "code",
   "execution_count": null,
   "metadata": {},
   "outputs": [],
   "source": [
    "test_images = np.reshape(x_test, (-1,28,28))\n",
    "show(test_images[239])"
   ]
  },
  {
   "cell_type": "code",
   "execution_count": null,
   "metadata": {},
   "outputs": [],
   "source": [
    "# complete validation set accuracy\n",
    "valid_preds = net(x_valid)\n",
    "all_idxs = torch.LongTensor(len(x_valid)).random_(0, len(x_valid))\n",
    "accuracy = np.mean(valid_preds.detach().numpy().argmax(axis=1) == y_valid.detach().numpy())\n",
    "accuracy"
   ]
  },
  {
   "cell_type": "code",
   "execution_count": null,
   "metadata": {},
   "outputs": [],
   "source": [
    "# complete _test_ set accuracy\n",
    "# (_, _, (x_test, y_test)) = dl.load_data()\n",
    "# x_test = torch.from_numpy(x_test)\n",
    "# y_test = torch.from_numpy(y_test)\n",
    "\n",
    "# test_preds = net(x_test)\n",
    "\n",
    "# all_idxs = torch.LongTensor(len(x_test)).random_(0, len(x_valid))\n",
    "# accuracy = np.mean(test_preds.detach().numpy().argmax(axis=1) == y_test.detach().numpy())\n",
    "# accuracy"
   ]
  }
 ],
 "metadata": {
  "kernelspec": {
   "display_name": "Python 3",
   "language": "python",
   "name": "python3"
  },
  "language_info": {
   "codemirror_mode": {
    "name": "ipython",
    "version": 3
   },
   "file_extension": ".py",
   "mimetype": "text/x-python",
   "name": "python",
   "nbconvert_exporter": "python",
   "pygments_lexer": "ipython3",
   "version": "3.6.5"
  }
 },
 "nbformat": 4,
 "nbformat_minor": 2
}
